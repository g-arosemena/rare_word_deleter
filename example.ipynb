{
 "cells": [
  {
   "cell_type": "code",
   "execution_count": 1,
   "id": "ac328ae8-37e0-41b6-8788-896dbc862249",
   "metadata": {},
   "outputs": [],
   "source": [
    "import rare_word_deleter\n",
    "import pandas as pd"
   ]
  },
  {
   "cell_type": "code",
   "execution_count": 2,
   "id": "352a060e-d68d-4d13-a0ae-11f64b552c32",
   "metadata": {},
   "outputs": [],
   "source": [
    "eng_words = pd.read_csv(\"eng_words.csv\")"
   ]
  },
  {
   "cell_type": "code",
   "execution_count": 3,
   "id": "25a0e021-a1ed-4a62-b3ea-4900ec02bea9",
   "metadata": {},
   "outputs": [],
   "source": [
    "words = list(eng_words.words)"
   ]
  },
  {
   "cell_type": "code",
   "execution_count": 4,
   "id": "4b936ffc-9a88-45a8-9484-ecc076999778",
   "metadata": {},
   "outputs": [],
   "source": [
    "text = \"\"\"\n",
    "In Congress, July 4, 1776\n",
    "\n",
    "The unanimous Declaration of the thirteen united States of America, When in the Course of human events, it becomes necessary for one people to dissolve the political bands which have connected them with another, and to assume among the powers of the earth, the separate and equal station to which the Laws of Nature and of Nature's God entitle them, a decent respect to the opinions of mankind requires that they should declare the causes which impel them to the separation.\n",
    "\n",
    "We hold these truths to be self-evident, that all men are created equal, that they are endowed by their Creator with certain unalienable Rights, that among these are Life, Liberty and the pursuit of Happiness.--That to secure these rights, Governments are instituted among Men, deriving their just powers from the consent of the governed, --That whenever any Form of Government becomes destructive of these ends, it is the Right of the People to alter or to abolish it, and to institute new Government, laying its foundation on such principles and organizing its powers in such form, as to them shall seem most likely to effect their Safety and Happiness. Prudence, indeed, will dictate that Governments long established should not be changed for light and transient causes; and accordingly all experience hath shewn, that mankind are more disposed to suffer, while evils are sufferable, than to right themselves by abolishing the forms to which they are accustomed. But when a long train of abuses and usurpations, pursuing invariably the same Object evinces a design to reduce them under absolute Despotism, it is their right, it is their duty, to throw off such Government, and to provide new Guards for their future security.--Such has been the patient sufferance of these Colonies; and such is now the necessity which constrains them to alter their former Systems of Government. The history of the present King of Great Britain is a history of repeated injuries and usurpations, all having in direct object the establishment of an absolute Tyranny over these States. To prove this, let Facts be submitted to a candid world.\n",
    "\n",
    "He has refused his Assent to Laws, the most wholesome and necessary for the public good.\n",
    "\n",
    "He has forbidden his Governors to pass Laws of immediate and pressing importance, unless suspended in their operation till his Assent should be obtained; and when so suspended, he has utterly neglected to attend to them.\n",
    "\n",
    "He has refused to pass other Laws for the accommodation of large districts of people, unless those people would relinquish the right of Representation in the Legislature, a right inestimable to them and formidable to tyrants only.\n",
    "\n",
    "He has called together legislative bodies at places unusual, uncomfortable, and distant from the depository of their public Records, for the sole purpose of fatiguing them into compliance with his measures.\n",
    "\n",
    "He has dissolved Representative Houses repeatedly, for opposing with manly firmness his invasions on the rights of the people.\n",
    "\n",
    "He has refused for a long time, after such dissolutions, to cause others to be elected; whereby the Legislative powers, incapable of Annihilation, have returned to the People at large for their exercise; the State remaining in the mean time exposed to all the dangers of invasion from without, and convulsions within.\n",
    "\n",
    "He has endeavoured to prevent the population of these States; for that purpose obstructing the Laws for Naturalization of Foreigners; refusing to pass others to encourage their migrations hither, and raising the conditions of new Appropriations of Lands.\n",
    "\n",
    "He has obstructed the Administration of Justice, by refusing his Assent to Laws for establishing Judiciary powers.\n",
    "\n",
    "He has made Judges dependent on his Will alone, for the tenure of their offices, and the amount and payment of their salaries.\n",
    "\n",
    "He has erected a multitude of New Offices, and sent hither swarms of Officers to harrass our people, and eat out their substance.\n",
    "\n",
    "He has kept among us, in times of peace, Standing Armies without the Consent of our legislatures.\n",
    "\n",
    "He has affected to render the Military independent of and superior to the Civil power.\n",
    "\n",
    "He has combined with others to subject us to a jurisdiction foreign to our constitution, and unacknowledged by our laws; giving his Assent to their Acts of pretended Legislation:\n",
    "\n",
    "For Quartering large bodies of armed troops among us:\n",
    "\n",
    "For protecting them, by a mock Trial, from punishment for any Murders which they should commit on the Inhabitants of these States:\n",
    "\n",
    "For cutting off our Trade with all parts of the world:\n",
    "\n",
    "For imposing Taxes on us without our Consent:\n",
    "\n",
    "For depriving us in many cases, of the benefits of Trial by Jury:\n",
    "\n",
    "For transporting us beyond Seas to be tried for pretended offences\n",
    "\n",
    "For abolishing the free System of English Laws in a neighbouring Province, establishing therein an Arbitrary government, and enlarging its Boundaries so as to render it at once an example and fit instrument for introducing the same absolute rule into these Colonies:\n",
    "\n",
    "For taking away our Charters, abolishing our most valuable Laws, and altering fundamentally the Forms of our Governments:\n",
    "\n",
    "For suspending our own Legislatures, and declaring themselves invested with power to legislate for us in all cases whatsoever.\n",
    "\n",
    "He has abdicated Government here, by declaring us out of his Protection and waging War against us.\n",
    "\n",
    "He has plundered our seas, ravaged our Coasts, burnt our towns, and destroyed the lives of our people.\n",
    "\n",
    "He is at this time transporting large Armies of foreign Mercenaries to compleat the works of death, desolation and tyranny, already begun with circumstances of Cruelty & perfidy scarcely paralleled in the most barbarous ages, and totally unworthy the Head of a civilized nation.\n",
    "\n",
    "He has constrained our fellow Citizens taken Captive on the high Seas to bear Arms against their Country, to become the executioners of their friends and Brethren, or to fall themselves by their Hands.\n",
    "\n",
    "He has excited domestic insurrections amongst us, and has endeavoured to bring on the inhabitants of our frontiers, the merciless Indian Savages, whose known rule of warfare, is an undistinguished destruction of all ages, sexes and conditions.\n",
    "\n",
    "In every stage of these Oppressions We have Petitioned for Redress in the most humble terms: Our repeated Petitions have been answered only by repeated injury. A Prince whose character is thus marked by every act which may define a Tyrant, is unfit to be the ruler of a free people.\n",
    "\n",
    "Nor have We been wanting in attentions to our Brittish brethren. We have warned them from time to time of attempts by their legislature to extend an unwarrantable jurisdiction over us. We have reminded them of the circumstances of our emigration and settlement here. We have appealed to their native justice and magnanimity, and we have conjured them by the ties of our common kindred to disavow these usurpations, which, would inevitably interrupt our connections and correspondence. They too have been deaf to the voice of justice and of consanguinity. We must, therefore, acquiesce in the necessity, which denounces our Separation, and hold them, as we hold the rest of mankind, Enemies in War, in Peace Friends.\n",
    "\n",
    "We, therefore, the Representatives of the united States of America, in General Congress, Assembled, appealing to the Supreme Judge of the world for the rectitude of our intentions, do, in the Name, and by Authority of the good People of these Colonies, solemnly publish and declare, That these United Colonies are, and of Right ought to be Free and Independent States; that they are Absolved from all Allegiance to the British Crown, and that all political connection between them and the State of Great Britain, is and ought to be totally dissolved; and that as Free and Independent States, they have full Power to levy War, conclude Peace, contract Alliances, establish Commerce, and to do all other Acts and Things which Independent States may of right do. And for the support of this Declaration, with a firm reliance on the protection of divine Providence, we mutually pledge to each other our Lives, our Fortunes and our sacred Honor.\n",
    "\n",
    "\"\"\""
   ]
  },
  {
   "cell_type": "code",
   "execution_count": 6,
   "id": "aa571214-3b92-4057-be9d-fabd18cbd585",
   "metadata": {},
   "outputs": [
    {
     "name": "stderr",
     "output_type": "stream",
     "text": [
      "D:\\Anaconda3\\envs\\Gus_1\\lib\\site-packages\\numba\\core\\ir_utils.py:2147: NumbaPendingDeprecationWarning: \u001b[1m\n",
      "Encountered the use of a type that is scheduled for deprecation: type 'reflected list' found for argument 'wordlist' of function 'RareWordDeleter'.\n",
      "\n",
      "For more information visit https://numba.readthedocs.io/en/stable/reference/deprecation.html#deprecation-of-reflection-for-list-and-set-types\n",
      "\u001b[1m\n",
      "File \"rare_word_deleter.py\", line 5:\u001b[0m\n",
      "\u001b[1m@jit\n",
      "\u001b[1mdef RareWordDeleter(document, wordlist):\n",
      "\u001b[0m\u001b[1m^\u001b[0m\u001b[0m\n",
      "\u001b[0m\n",
      "  warnings.warn(NumbaPendingDeprecationWarning(msg, loc=loc))\n"
     ]
    }
   ],
   "source": [
    "res = rare_word_deleter.RareWordDeleter(text, words)"
   ]
  },
  {
   "cell_type": "code",
   "execution_count": 7,
   "id": "ca41e0b8-5eb3-4606-8862-daf920709acc",
   "metadata": {},
   "outputs": [
    {
     "data": {
      "text/plain": [
       "\"july unanimous declaration of the thirteen states of when in the course of human it necessary for one people to dissolve the political which have connected them with and to assume among the powers of the the separate and equal station to which the of nature and of nature's god entitle a decent respect to the of mankind that they should declare the which impel them to the hold these truths to be that all men are that they are by their creator with certain that among these are liberty and the pursuit of to secure these are among their just powers from the consent of the whenever any form of government destructive of these it the right of the people to alter or to abolish and to institute new foundation on such and powers in such as to them shall seem most likely to effect their safety and will dictate that long should not be changed for light and transient and all experience that mankind are more disposed to while are than to right themselves by the to which they are but when a long train of and the same object a design to reduce them under absolute it their it their to throw off such and to provide new for their future been the patient sufferance of these and such now the necessity which them to alter their former of the history of the present king of great britain a history of repeated and all in direct object the establishment of an absolute tyranny over these to prove let be submitted to a candid assent to the most wholesome and necessary for the public forbidden to pass of immediate and pressing unless in their operation till assent should be and when so he to attend to to pass other for the accommodation of large of unless those people would relinquish the right of in the a right to them and formidable to called together legislative at and distant from the depository of their public for the sole purpose of them compliance with dissolved representative for with manly firmness on the of the for a long such to cause to be whereby the legislative of have to the people at large for their the state in the mean time exposed to all the of invasion from and to prevent the population of these for that purpose the for naturalization of to pass to encourage their and the of new of obstructed the administration of by assent to for judiciary made judges dependent on will for the tenure of their and the amount and payment of their a multitude of new and sent hither of to our and eat out their kept among in of standing without the consent of our affected to render the military of and superior to the civil combined with to subject us to a jurisdiction foreign to our and by our assent to their acts of large of armed among by a mock from punishment for any which they should commit on the of these cutting off our trade with all of the imposing on us without our us in many of the of trial by us beyond to be tried for the free system of english in a therein an arbitrary and so as to render it at once an example and fit instrument for the same absolute rule these taking away our our most valuable and the of our our own and themselves with power to legislate for us in all government by us out of protection and war against our our burnt our and the of our at this time large of foreign to the works of desolation and already begun with of cruelty perfidy paralleled in the most barbarous and unworthy the head of a civilized constrained our fellow taken captive on the high to bear against their to become the of their and or to fall themselves by their excited domestic and to bring on the of our the merciless indian whose known rule of an destruction of all and every stage of these we have for in the most humble our repeated have been answered by repeated a prince whose character thus marked by every act which may define a unfit to be the ruler of a free have we been in attentions to our we have them from time to time of by their legislature to extend an unwarrantable jurisdiction over we have them of the of our emigration and settlement we have to their native justice and and we have them by the of our common kindred to these would inevitably interrupt our and they too have been deaf to the voice of justice and of we acquiesce in the which our and hold as we hold the rest of in in peace the of the states of in general appealing to the supreme judge of the world for the rectitude of our in the and by authority of the good people of these publish and that these and of right ought to be free and that they are from all allegiance to the british and that all political connection between them and the state of great and ought to be and that as free and they have full power to levy conclude contract establish and to do all other acts and which states may of right and for the support of this with a firm reliance on the protection of divine we pledge to each other our our and our sacred\""
      ]
     },
     "execution_count": 7,
     "metadata": {},
     "output_type": "execute_result"
    }
   ],
   "source": [
    "res"
   ]
  },
  {
   "cell_type": "code",
   "execution_count": null,
   "id": "69e8caf9-2e50-4070-bdd5-2dd8bf2b5d4d",
   "metadata": {},
   "outputs": [],
   "source": []
  }
 ],
 "metadata": {
  "kernelspec": {
   "display_name": "Python 3 (ipykernel)",
   "language": "python",
   "name": "python3"
  },
  "language_info": {
   "codemirror_mode": {
    "name": "ipython",
    "version": 3
   },
   "file_extension": ".py",
   "mimetype": "text/x-python",
   "name": "python",
   "nbconvert_exporter": "python",
   "pygments_lexer": "ipython3",
   "version": "3.9.13"
  }
 },
 "nbformat": 4,
 "nbformat_minor": 5
}
