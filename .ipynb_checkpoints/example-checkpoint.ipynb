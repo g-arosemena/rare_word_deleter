{
 "cells": [
  {
   "cell_type": "markdown",
   "id": "c29a444e-2e9a-4236-8456-c43ce89dd03a",
   "metadata": {},
   "source": [
    "# Example"
   ]
  },
  {
   "cell_type": "code",
   "execution_count": 1,
   "id": "ac328ae8-37e0-41b6-8788-896dbc862249",
   "metadata": {},
   "outputs": [],
   "source": [
    "import rare_word_deleter\n",
    "import pandas as pd"
   ]
  },
  {
   "cell_type": "code",
   "execution_count": 5,
   "id": "352a060e-d68d-4d13-a0ae-11f64b552c32",
   "metadata": {},
   "outputs": [],
   "source": [
    "eng_words = pd.read_csv(\"dictionary/eng_words.csv\")"
   ]
  },
  {
   "cell_type": "code",
   "execution_count": 6,
   "id": "25a0e021-a1ed-4a62-b3ea-4900ec02bea9",
   "metadata": {},
   "outputs": [],
   "source": [
    "words = list(eng_words.words)"
   ]
  },
  {
   "cell_type": "code",
   "execution_count": 7,
   "id": "4b936ffc-9a88-45a8-9484-ecc076999778",
   "metadata": {},
   "outputs": [],
   "source": [
    "text = \"\"\"\n",
    "The European Court of Human Rights (Second Section), sitting on 8 July 2003 as a Chamber composed of\n",
    "\n",
    " Mr J.-P. Costa, President,\n",
    " Mr A.B. Baka,\n",
    " Mr Gaukur Jörundsson,\n",
    " Mr K. Jungwiert,\n",
    " Mr V. Butkevych,\n",
    " Mrs W. Thomassen,\n",
    " Mr M. Ugrekhelidze, judges,\n",
    "and Mrs S. Dollé, Section Registrar,\n",
    "\n",
    "Having regard to the above application lodged on 16 July 2002,\n",
    "\n",
    "Having deliberated, decides as follows:\n",
    "\n",
    "THE FACTS\n",
    "\n",
    "The applicant, Mr Nikky Sentges, is a Netherlands national, who was born in 1986 and lives in Maassluis. He is represented by his mother, Mrs M. Sentges, who exercises parental authority (ouderlijk gezag) over him. In the proceedings before the Court he is represented by Mr M.F. Vermaat, a lawyer practising in Hilversum.\n",
    "\n",
    "A.  The circumstances of the case\n",
    "\n",
    "The facts of the case, as submitted by the applicant, may be summarised as follows.\n",
    "\n",
    "The applicant suffers from Duchenne Muscular Dystrophy (DMD), a disease characterised by progressive muscle degeneration, loss of the ability to walk and often the loss of lung or cardiac functions. There is currently no known cure for DMD. Most affected people survive into their twenties.\n",
    "\n",
    "The applicant is unable to stand, walk or lift his arms, and his manual and digital functions are virtually absent. He uses an electric wheelchair to move about, both outside the home and at school. He uses an adapted joystick to control the movement of the chair as he lacks the muscle strength required to operate the standard joystick. For every act he needs or wishes to perform, including eating and drinking, he is completely dependent on assistance from third persons.\n",
    "\n",
    "On 20 July 1999 the applicant’s parents requested their health insurance fund (ziekenfonds) to provide him with a “MANUS Manipulator”, a robotic arm specifically designed to be mounted on electric wheelchairs in order to give disabled people more autonomy in handling objects in their environment. This request was supported by a rehabilitation specialist (revalidatiearts) who informed the health insurance fund that when the applicant had tried out the robotic arm he had shown that he would be able to learn how to use it. Providing the applicant with the robotic arm would enable him to perform many acts unassisted, such as:\n",
    "\n",
    "–  pouring drinks and drinking;\n",
    "\n",
    "–  picking up various remote controls and using them;\n",
    "\n",
    "–  operating audio and video players, for example inserting and removing audio and video cassettes;\n",
    "\n",
    "–  switching a computer and printer on and off;\n",
    "\n",
    "–  pressing lift buttons and door bells when visiting third persons;\n",
    "\n",
    "–  shopping;\n",
    "\n",
    "–  making telephone calls and sending faxes;\n",
    "\n",
    "–  picking up items off the floor or out of cupboards;\n",
    "\n",
    "–  picking up papers and/or books and turning pages;\n",
    "\n",
    "–  scratching himself; and\n",
    "\n",
    "–  playing games.\n",
    "\n",
    " \n",
    "\n",
    "Since the applicant was receiving the 24-hour assistance he required mainly from his parents, it was not possible to quantify in monetary terms the savings which would result from the use of the robotic arm. However, not long after being provided with the robotic arm, the applicant’s dependence on the constant presence of carers would be reduced by at least one to three hours a day. This would alleviate the task of the carers, who would thus be better able to continue fulfilling their task. In addition, the applicant would be able to continue living at home (for a longer period of time). The total cost of the robotic arm amounted to about 36,000 euros (EUR).\n",
    "\n",
    "On 10 August 1999 the health insurance fund rejected the request for the reason that the provision of a robotic arm was covered neither by the Health Insurance Act (Ziekenfondswet), the Exceptional Medical Expenses Act (Algemene Wet Bijzondere Ziektekosten) nor by any other social insurance scheme.\n",
    "\n",
    "The objection (bezwaar) which the applicant’s parents filed against this decision was rejected by the health insurance fund on 18 May 2000. The insurance fund held that since Article 15 of the Health Insurance (Treatment and Services) Decree (Verstrekkingenbesluit Ziekenfondsverzekering) stipulated that insured persons were entitled to those medical devices which had been designated by the Minister for Health, Welfare and Sport (Minister van Volksgezondheid, Welzijn en Sport; “the Minister”), it was not allowed to provide for, pay for or make a payment towards devices other than those mentioned in Article 2 of the Regulation on Medical Devices 1996 (Regeling hulpmiddelen 1996; “the Regulation”). A robotic arm was not listed in that Regulation.\n",
    "\n",
    "The appeal lodged by the applicant’s parents against this decision was upheld by the Regional Court (arrondissementsrechtbank) of Rotterdam on 12 December 2000. The Regional Court considered that the health insurance fund had given too narrow an interpretation to certain provisions of the Regulation. It therefore ordered the health insurance fund to come to a new decision on the request for the robotic arm. In view of this finding the Regional Court considered that it was not necessary to examine the arguments raised by the applicant’s parents relating to Article 8 of the Convention.\n",
    "\n",
    "The health insurance fund appealed against the judgment of the Regional Court to the Central Appeals Tribunal (Centrale Raad van Beroep). It maintained that the robotic arm was not a medical device which could be provided pursuant to the Regulation. In this connection it pointed to the fact that the Health Care Insurance Board (College voor zorgverzekeringen) had advised the Minister in September 2000 to include the robotic arm in the Regulation. However, the Minister had decided not to adopt this proposal\n",
    "for the time being. Obviously, if an insured person was already able to enforce a right to be provided with a robotic arm, neither the advice of the Health Care Insurance Board nor the decision of the Minister would have been necessary.\n",
    "\n",
    "The arguments presented on behalf of the applicant in the proceedings before the Central Appeals Tribunal included extensive reasoning relating to Article 8 of the Convention.\n",
    "\n",
    "On 29 January 2002 the Central Appeals Tribunal rejected the appeal. It found that the Regulation did not contain an entitlement for the applicant to be provided with a robotic arm. As to Article 8, the Central Appeals Tribunal held as follows:\n",
    "\n",
    "“The Tribunal is of the opinion that it has to be said that a direct and immediate link exists between [the applicant’s] private life and the measure demanded from [the health insurance fund], to wit the provision of a robotic arm. Taking into account the wide margin of appreciation which the State enjoys in these matters, it can nevertheless not be said that, when weighing the general interest, including the costs of health care, against the individual interest, the State could not reasonably have decided to exclude the robotic arm at issue from the package of treatment and services that persons are entitled to pursuant to the Health Insurance Act.”\n",
    "\n",
    "The above-mentioned report of the Health Care Insurance Board stated that between 150 and 400 persons a year might be eligible for the robotic arm if it were to be included in the health insurance fund package. If the lifespan of a robotic arm was set at five years, the yearly costs would amount to EUR 10,900 per arm. It was likely that the provision of a robotic arm would also entail savings, but the exact extent of these savings was difficult to estimate.\n",
    "\n",
    "B.  Relevant domestic law\n",
    "\n",
    "Insurance under the Health Insurance Act is statutory: everyone who meets the criteria laid down in the legislation is automatically insured and consequently obliged to pay the statutory contribution. These criteria relate mainly to income; individuals whose income exceeds a certain amount are expected to take out private insurance. Children to whose maintenance an insured person contributes at least a particular amount per week are also insured.\n",
    "\n",
    "A person insured under the Health Insurance Act must register with a health insurance fund in order to obtain insurance entitlements. The nature of the care available to those covered by the Health Insurance Act is defined in the Act itself and in more detail in the Health Insurance (Treatment and Services) Decree and the associated ministerial regulations.\n",
    "\n",
    "In addition, all residents of the Netherlands are statutorily insured under the Exceptional Medical Expenses Act (Algemene Wet Bijzondere Ziektekosten) which provides cover for very severe financial burdens as a result of serious long-term illnesses or disorders.\n",
    "\n",
    "COMPLAINT\n",
    "\n",
    "The applicant complained that his request to be provided with a robotic arm was denied. He submitted that the right to respect for his private life, as guaranteed by Article 8 of the Convention, entailed a positive obligation for the State to provide him with, or pay for, this medical device. Referring to the Court’s case-law (Airey v. Ireland, judgment of 9 October 1979, Series A no. 32; X and Y v. the Netherlands, judgment of 26 March 1985, Series A no. 91; Niemietz v. Germany, judgment of 16 December 1992, Series A no. 251-B; Burghartz v. Switzerland, judgment of 22 February 1994, Series A no. 280-B; Botta v. Italy, judgment of 24 February 1998, Reports of Judgments and Decisions 1998-I; and Pretty v. the United Kingdom, no. 2346/02, ECHR 2002-III), he argued that the concept of private life, as interpreted by the Court, encompassed notions pertaining to the quality of life, including personal autonomy, self-determination, as well as the right to establish and develop relationships with other human beings.\n",
    "\n",
    "Quality of life may be lost where an individual, like the applicant in the present case, was forced to live in a dependent manner resulting in the loss of personal autonomy. His dependence on others for every single act meant that he was unable to pursue the establishment and development of relationships with other human beings and that he was not free in his choice of persons with whom to establish and develop relationships. Although he acknowledged that even for able-bodied persons such freedom is always to some extent subject to constraints, the extent to which this was the case for him was unacceptable. At no time was he able to withdraw and be alone. Total dependence on family and friends forced him to establish and develop relationships with persons he might not have chosen had he not been disabled. If provided with the robotic arm, the applicant’s severely curtailed level of self-determination would be increased as he would to an important extent be less dependent on his family and friends, and he would be able to establish and develop relationships with persons other than for reasons of dependence. There was thus a direct and immediate link between the measure sought by the applicant and his private life. In addition, no alternative device or appliance existed.\n",
    "\n",
    "The applicant emphasised that no general positive obligation for the State was being advocated. A distinction could be made between the entitlements of persons who are to some extent limited in the exercise of their private life and those of persons, like the applicant, who are not at all able to exercise their right to a private life.\n",
    "\n",
    "THE LAW\n",
    "\n",
    "The applicant complained that the authorities’ refusal to provide him with a robotic arm constituted a breach of Article 8 of the Convention which, in so far as relevant, provides as follows:\n",
    "\n",
    "“1.  Everyone has the right to respect for his private ... life ...\n",
    "\n",
    "2.  There shall be no interference by a public authority with the exercise of this right except such as is in accordance with the law and is necessary in a democratic society in the interests of national security, public safety or the economic well-being of the country, for the prevention of disorder or crime, for the protection of health or morals, or for the protection of the rights and freedoms of others.”\n",
    "\n",
    "The Court has previously held that private life includes a person’s physical and psychological integrity; the guarantee afforded by Article 8 of the Convention is primarily intended to ensure the development, without outside interference, of the personality of each individual in his relations with other human beings (see, mutatis mutandis, Niemietz v. Germany, cited above, § 29).\n",
    "\n",
    "In the instant case the applicant complained in substance not of action but of a lack of action by the State. While the essential object of Article 8 is to protect the individual against arbitrary interference by the public authorities, it does not merely compel the State to abstain from such interference: in addition to this negative undertaking, there may be positive obligations inherent in effective respect for private or family life. These obligations may involve the adoption of measures designed to secure respect for private life even in the sphere of the relations of individuals between themselves (see, inter alia, X and Y v. the Netherlands, cited above, § 23), Stubbings and Others v. the United Kingdom, judgment of 22 October 1996, Reports 1996-IV, p. 1505, § 62).\n",
    "\n",
    "The Court has held that Article 8 may impose such positive obligations on a State where there is a direct and immediate link between the measures sought by an applicant and the latter’s private life (see Botta v. Italy, cited above, § 34). However, Article 8 does not apply to situations concerning interpersonal relations of such broad and indeterminate scope that there can be no conceivable link between the measures the State is urged to take and an individual’s private life (see Botta, cited above, § 35). The Court has also held that Article 8 cannot be considered applicable each time an individual’s everyday life is disrupted, but only in the exceptional cases where the State’s failure to adopt measures interferes with that individual’s right to personal development and his or her right to establish and maintain relations with other human beings and the outside world. It is incumbent on the individual concerned to demonstrate the existence of a special link between\n",
    "the situation complained of and the particular needs of his or her private life (see Zehnalovà and Zehnal v. the Czech Republic (dec.), no. 38621/97, ECHR 2002-V).\n",
    "\n",
    "Even assuming that in the present case such a special link indeed exists – as was accepted by the Central Appeals Tribunal –, regard must be had to the fair balance that has to be struck between the competing interests of the individual and of the community as a whole and to the wide margin of appreciation enjoyed by States in this respect in determining the steps to be taken to ensure compliance with the Convention (see Zehnalovà and Zehnal, cited above).\n",
    "\n",
    "This margin of appreciation is even wider when, as in the present case, the issues involve an assessment of the priorities in the context of the allocation of limited State resources (see, mutatis mutandis, Osman v. the United Kingdom, judgment of 28 October 1998, Reports 1998-VIII, p. 3159, § 116, O’Reilly and Others v. Ireland (dec.), no. 54725/00, 28 February 2002, unreported). In view of their familiarity with the demands made on the health care system as well as with the funds available to meet those demands, the national authorities are in a better position to carry out this assessment than an international court. In addition, the Court should also be mindful of the fact that, while it will apply the Convention to the concrete facts of this particular case in accordance with Article 34, a decision issued in an individual case will nevertheless at least to some extent establish a precedent (see Pretty, cited above, § 75), valid for all Contracting States.\n",
    "\n",
    "In the present case the Court notes that the applicant has access to the standard of health care offered to all persons insured under the Health Insurance Act and the Exceptional Medical Expenses Act (see Nitecki v. Poland (dec.), no. 65653/01, 21 March 2002, unreported). It thus appears that he has been provided with an electric wheelchair with an adapted joystick. The Court by no means wishes to underestimate the difficulties encountered by the applicant and appreciates the very real improvement which a robotic arm would entail for his personal autonomy and his ability to establish and develop relationships with other human beings of his choice. Nevertheless the Court is of the opinion that in the circumstances of the present case it cannot be said that the respondent State exceeded the margin of appreciation afforded to it.\n",
    "\n",
    "It follows that this complaint is manifestly ill-founded and must be rejected in accordance with Article 35 §§ 3 and 4 of the Convention.\n",
    "\n",
    "For these reasons, the Court by a majority\n",
    "\n",
    "Declares the application inadmissible.\n",
    "\n",
    " \n",
    "\n",
    "\n",
    "\"\"\""
   ]
  },
  {
   "cell_type": "code",
   "execution_count": 8,
   "id": "aa571214-3b92-4057-be9d-fabd18cbd585",
   "metadata": {},
   "outputs": [
    {
     "name": "stderr",
     "output_type": "stream",
     "text": [
      "D:\\Anaconda3\\envs\\Gus_1\\lib\\site-packages\\numba\\core\\ir_utils.py:2147: NumbaPendingDeprecationWarning: \u001b[1m\n",
      "Encountered the use of a type that is scheduled for deprecation: type 'reflected list' found for argument 'wordlist' of function 'RareWordDeleter'.\n",
      "\n",
      "For more information visit https://numba.readthedocs.io/en/stable/reference/deprecation.html#deprecation-of-reflection-for-list-and-set-types\n",
      "\u001b[1m\n",
      "File \"rare_word_deleter.py\", line 5:\u001b[0m\n",
      "\u001b[1m@jit\n",
      "\u001b[1mdef RareWordDeleter(document, wordlist):\n",
      "\u001b[0m\u001b[1m^\u001b[0m\u001b[0m\n",
      "\u001b[0m\n",
      "  warnings.warn(NumbaPendingDeprecationWarning(msg, loc=loc))\n"
     ]
    }
   ],
   "source": [
    "res = rare_word_deleter.RareWordDeleter(text, words)"
   ]
  },
  {
   "cell_type": "code",
   "execution_count": 9,
   "id": "ca41e0b8-5eb3-4606-8862-daf920709acc",
   "metadata": {},
   "outputs": [
    {
     "data": {
      "text/plain": [
       "'european court of human sitting on 8 july as a chamber mr mr mr mr mr mr section regard to the above application on july as mr a netherlands who was born in and in he represented by who parental authority over in the before the court he represented by mr a lawyer in the of the of the as submitted by the may be as applicant from muscular a by progressive muscle loss of the ability to walk and often the loss of lung or cardiac there no known cure for most affected people survive their applicant to walk or lift and manual and digital are he an electric wheelchair to move both outside the home and at he an joystick to control the movement of the chair as he the muscle strength to operate the standard for every act he or to and he dependent on assistance from third july the their health insurance fund to provide him with a a robotic arm specifically to be mounted on electric in order to give people more autonomy in in their this request was supported by a rehabilitation specialist who informed the health insurance fund that when the applicant had tried out the robotic arm he had shown that he would be able to learn how to use the applicant with the robotic arm would enable him to perform many acts such and up various remote and audio and video for example and audio and video a computer and printer on and pressing lift and door when third making telephone and up off the floor or out of up and turning the applicant was the assistance he from it was not possible to quantify in monetary the savings which would result from the use of the robotic not long being provided with the robotic the dependence on the constant presence of would be by at least one to three a this would alleviate the task of the who would thus be better able to continue fulfilling their in the applicant would be able to continue living at home a longer period of the total cost of the robotic arm to about august the health insurance fund the request for the reason that the of a robotic arm was neither by the health insurance act the exceptional medical act wet nor by any other social insurance objection which the against this decision was by the health insurance fund on may the insurance fund held that since article of the health insurance and decree that insured were to those medical which had been by the minister for welfare and sport van en it was not to provide pay for or make a payment other than those mentioned in article 2 of the regulation on medical a robotic arm was not listed in that appeal by the against this decision was upheld by the regional court of rotterdam on december the regional court considered that the health insurance fund had given too narrow an interpretation to certain of the it therefore ordered the health insurance fund to come to a new decision on the request for the robotic in view of this finding the regional court considered that it was not necessary to examine the by the to article 8 of the health insurance fund against the judgment of the regional court to the central tribunal van it maintained that the robotic arm was not a medical which could be provided pursuant to the in this connection it pointed to the fact that the health care insurance board had advised the minister in september to include the robotic arm in the the minister had decided not to adopt this the time if an insured person was already able to enforce a right to be provided with a robotic neither the advice of the health care insurance board nor the decision of the minister would have been on behalf of the applicant in the before the central tribunal extensive reasoning to article 8 of the january the central tribunal the it found that the regulation did not contain an entitlement for the applicant to be provided with a robotic as to article the central tribunal held as tribunal of the opinion that it to be said that a direct and immediate link between private life and the measure from health insurance to wit the of a robotic taking account the wide margin of appreciation which the state in these it can nevertheless not be said when the general the of health against the individual the state could not reasonably have decided to exclude the robotic arm at issue from the package of treatment and that are to pursuant to the health insurance of the health care insurance board stated that between and a year might be eligible for the robotic arm if it were to be in the health insurance fund if the lifespan of a robotic arm was set at five the yearly would amount to eur it was likely that the of a robotic arm would also entail but the exact extent of these savings was difficult to relevant domestic under the health insurance act everyone who the criteria laid down in the legislation automatically insured and to pay the statutory these criteria relate to whose a certain amount are to take out private children to whose maintenance an insured person at least a particular amount week are also person insured under the health insurance act must register with a health insurance fund in order to obtain insurance the nature of the care available to those by the health insurance act defined in the act itself and in more in the health insurance and decree and the ministerial all of the netherlands are statutorily insured under the exceptional medical act wet which cover for very severe financial as a result of serious or applicant that request to be provided with a robotic arm was he submitted that the right to respect for private as by article 8 of the a positive obligation for the state to provide him or pay this medical referring to the judgment of 9 october series a x and y the judgment of march series a judgment of december series a judgment of february series a judgment of february of and decisions and pretty the he that the concept of private as interpreted by the to the quality of personal as well as the right to establish and develop with other human of life may be lost where an like the applicant in the present was forced to live in a dependent manner in the loss of personal dependence on for every single act meant that he was to pursue the establishment and development of with other human and that he was not free in choice of with whom to establish and develop although he acknowledged that even for such freedom always to some extent subject to the extent to which this was the case for him was at no time was he able to withdraw and be total dependence on family and forced him to establish and develop with he might not have chosen had he not been if provided with the robotic the level of would be as he would to an important extent be less dependent on family and and he would be able to establish and develop with other than for of there was thus a direct and immediate link between the measure sought by the applicant and private in no alternative or appliance applicant that no general positive obligation for the state was being a distinction could be made between the of who are to some extent limited in the exercise of their private life and those of like the who are not at all able to exercise their right to a private applicant that the refusal to provide him with a robotic arm a breach of article 8 of the convention in so far as as everyone the right to respect for private life there shall be no interference by a public authority with the exercise of this right except such as in accordance with the law and necessary in a democratic society in the of national public safety or the economic of the for the prevention of disorder or for the protection of health or or for the protection of the and of court held that private life a physical and psychological the guarantee by article 8 of the convention primarily intended to ensure the without outside of the personality of each individual in with other human the instant case the applicant in substance not of action but of a lack of action by the while the essential object of article 8 to protect the individual against arbitrary interference by the public it does not compel the state to abstain from such in addition to this negative there may be positive inherent in effective respect for private or family these may involve the adoption of to secure respect for private life even in the sphere of the of between themselves inter x and y the and the judgment of october court held that article 8 may impose such positive on a state where there a direct and immediate link between the sought by an applicant and the private life article 8 does not apply to concerning interpersonal of such broad and indeterminate scope that there can be no conceivable link between the the state to take and an private life the court also held that article 8 cannot be considered applicable each time an everyday life but in the exceptional where the failure to adopt with that right to personal development and or right to establish and maintain with other human and the outside it incumbent on the individual concerned to demonstrate the existence of a special link situation of and the particular of or private life and the czech republic that in the present case such a special link indeed as was accepted by the central tribunal regard must be had to the fair balance that to be struck between the of the individual and of the community as a whole and to the wide margin of appreciation by states in this respect in the to be taken to ensure compliance with the convention and margin of appreciation even as in the present the involve an assessment of the in the of the allocation of limited state osman the judgment of october and ireland february in view of their familiarity with the made on the health care system as well as with the available to meet those the national are in a better position to carry out this assessment than an international in the court should also be mindful of the fact while it will apply the convention to the concrete of this particular case in accordance with article a decision in an individual case will nevertheless at least to some extent establish a precedent valid for all the present case the court that the applicant access to the standard of health care to all insured under the health insurance act and the exceptional medical act poland march it thus that he been provided with an electric wheelchair with an the court by no to underestimate the by the applicant and the very real improvement which a robotic arm would entail for personal autonomy and ability to establish and develop with other human of nevertheless the court of the opinion that in the of the present case it cannot be said that the respondent state the margin of appreciation to that this complaint and must be in accordance with article 3 and 4 of the these the court by a the application'"
      ]
     },
     "execution_count": 9,
     "metadata": {},
     "output_type": "execute_result"
    }
   ],
   "source": [
    "res"
   ]
  }
 ],
 "metadata": {
  "kernelspec": {
   "display_name": "Python 3 (ipykernel)",
   "language": "python",
   "name": "python3"
  },
  "language_info": {
   "codemirror_mode": {
    "name": "ipython",
    "version": 3
   },
   "file_extension": ".py",
   "mimetype": "text/x-python",
   "name": "python",
   "nbconvert_exporter": "python",
   "pygments_lexer": "ipython3",
   "version": "3.9.13"
  }
 },
 "nbformat": 4,
 "nbformat_minor": 5
}
